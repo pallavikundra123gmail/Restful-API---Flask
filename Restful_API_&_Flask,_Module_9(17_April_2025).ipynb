{
  "nbformat": 4,
  "nbformat_minor": 0,
  "metadata": {
    "colab": {
      "provenance": []
    },
    "kernelspec": {
      "name": "python3",
      "display_name": "Python 3"
    },
    "language_info": {
      "name": "python"
    }
  },
  "cells": [
    {
      "cell_type": "markdown",
      "source": [
        "Theory Questions"
      ],
      "metadata": {
        "id": "hBv_FZ0mvvoN"
      }
    },
    {
      "cell_type": "code",
      "source": [
        "#1. What is a RESTful API?\n",
        "\n",
        "#Ans:- A RESTful API (Representational State Transfer API) is a web service that follows REST architectural principles to allow communication between\n",
        "#      client and server using standard HTTP methods (GET, POST, PUT, DELETE).\n",
        "#      It's stateless, resource-based, and typically uses JSON for data exchange."
      ],
      "metadata": {
        "id": "TGOUvAzXi8Q0"
      },
      "execution_count": null,
      "outputs": []
    },
    {
      "cell_type": "code",
      "source": [
        "#2. Explain the concept of API specification ?\n",
        "\n",
        "#Ans:- An API specification defines how an API behaves — its endpoints, request/response formats, authentication, status codes, etc.\n",
        "#     It helps developers understand how to interact with the API."
      ],
      "metadata": {
        "id": "lJJWCro1jCPt"
      },
      "execution_count": null,
      "outputs": []
    },
    {
      "cell_type": "code",
      "source": [
        "#3. What is Flask, and why is it popular for building APIs?\n",
        "\n",
        "#Ans :-Flask is a lightweight Python web framework. It’s popular for APIs because:\n",
        "#        1. It’s simple and minimal.\n",
        "#        2. Easy to learn and use.\n",
        "#        3. Supports extensions like Flask-RESTful, Flask-SQL Alchemy, etc.\n",
        "#        4. Gives full control over request handling and routing."
      ],
      "metadata": {
        "id": "Hk5v8nWxjHpl"
      },
      "execution_count": null,
      "outputs": []
    },
    {
      "cell_type": "code",
      "source": [
        "#4. What is routing in Flask?\n",
        "\n",
        "#Ans:-Routing is the mechanism of mapping URLs to Python functions."
      ],
      "metadata": {
        "id": "UaDcnTD4jKwF"
      },
      "execution_count": null,
      "outputs": []
    },
    {
      "cell_type": "code",
      "source": [
        "#5. How do you create a simple Flask application?\n",
        "\n",
        "#Ans:-To create a simple Flask app, you import Flask, create an app object, define a route using @app. route (), and return a response.\n",
        "#     Then, you run the app using app.run().\n"
      ],
      "metadata": {
        "id": "-oM0PUwUjOR2"
      },
      "execution_count": null,
      "outputs": []
    },
    {
      "cell_type": "code",
      "source": [
        "#6. What are HTTP methods used in RESTful APIs?\n",
        "\n",
        "#Ans:- These are the HTTP method which is used in Restful APIs: -\n",
        "#         1.GET: Retrieve data.\n",
        "#         2. POST: Submit new data.\n",
        "#         3.PUT: Update existing data.\n",
        "#         4. DELETE: Remove data.\n",
        "#         5. PATCH: Partially update data."
      ],
      "metadata": {
        "id": "kbSOsnuyjRIf"
      },
      "execution_count": null,
      "outputs": []
    },
    {
      "cell_type": "code",
      "source": [
        "#7. What is the purpose of the @app. route () decorator in Flask?\n",
        "\n",
        "#Ans:- It maps a URL endpoint to a function. When the specified URL is visited, the corresponding function runs."
      ],
      "metadata": {
        "id": "E9Q4hRXljUJA"
      },
      "execution_count": null,
      "outputs": []
    },
    {
      "cell_type": "code",
      "source": [
        "#8. What is the difference between GET and POST HTTP methods?\n",
        "\n",
        "#Ans:- GET is used to request data from the server and shows data in the URL.\n",
        "#      POST is used to send data to the server and hides data in the request body."
      ],
      "metadata": {
        "id": "VNFw1IGWjXMJ"
      },
      "execution_count": null,
      "outputs": []
    },
    {
      "cell_type": "code",
      "source": [
        "#9. How do you handle errors in Flask APIs?\n",
        "\n",
        "#Ans:-Use @app. error handler or return custom JSON."
      ],
      "metadata": {
        "id": "RmNXXpJKjZ74"
      },
      "execution_count": null,
      "outputs": []
    },
    {
      "cell_type": "code",
      "source": [
        "#10. How do you connect Flask to a SQL database?\n",
        "\n",
        "#Ans:- To connect Flask to a SQL database, you use an extension like Flask-SQL Alchemy.\n",
        "#      It lets you define the database URL in your app settings and interact with the database using Python code instead of writing SQL manually.\n"
      ],
      "metadata": {
        "id": "L1GO2tbYjfyQ"
      },
      "execution_count": null,
      "outputs": []
    },
    {
      "cell_type": "code",
      "source": [
        "#11. What is the role of Flask-SQL Alchemy?\n",
        "\n",
        "#Ans:- It's an ORM (Object-Relational Mapper) extension that simplifies interaction with databases by using Python classes to represent tables.\n"
      ],
      "metadata": {
        "id": "s18BVePvjjY5"
      },
      "execution_count": null,
      "outputs": []
    },
    {
      "cell_type": "code",
      "source": [
        "#12. What are Flask blueprints, and how are they useful?\n",
        "\n",
        "#Ans:-Blueprints help modularize large applications into smaller components."
      ],
      "metadata": {
        "id": "Jos1rIJhjna5"
      },
      "execution_count": null,
      "outputs": []
    },
    {
      "cell_type": "code",
      "source": [
        "#13. What is the purpose of Flask's request object?\n",
        "\n",
        "#Ans:- It allows you to access data sent by the client.\n"
      ],
      "metadata": {
        "id": "lY8HmthJjrc6"
      },
      "execution_count": null,
      "outputs": []
    },
    {
      "cell_type": "code",
      "source": [
        "#14. How do you create a RESTful API endpoint using Flask?\n",
        "\n",
        "#Ans:- In Flask, a RESTful API endpoint is created by defining a route using @app. route () and writing a function to handle requests.\n",
        "#      The route represents a URL, and the function returns a response like data in JSON format.\n",
        "#      You can specify which HTTP methods (GET, POST, etc.) the endpoint should accept.\n"
      ],
      "metadata": {
        "id": "oxD3MOLEjwrN"
      },
      "execution_count": null,
      "outputs": []
    },
    {
      "cell_type": "code",
      "source": [
        "#15. What is the purpose of Flask's jsonify() function?\n",
        "\n",
        "#Ans:- It converts Python dictionaries or lists into JSON responses with proper headers.\n"
      ],
      "metadata": {
        "id": "vyB8gBpvj1jt"
      },
      "execution_count": null,
      "outputs": []
    },
    {
      "cell_type": "code",
      "source": [
        "#16. Explain Flask’s url_for() function?\n",
        "\n",
        "#Ans:- Generates a URL from the function name. Helps avoid hardcoding URLs.\n"
      ],
      "metadata": {
        "id": "WxI4Od0wj5P8"
      },
      "execution_count": null,
      "outputs": []
    },
    {
      "cell_type": "code",
      "source": [
        "#17. How does Flask handle static files (CSS, JavaScript, etc.)?\n",
        "\n",
        "#Ans:- Flask serves static files from the /static folder by default.\n"
      ],
      "metadata": {
        "id": "6A5pyFkRj-Ac"
      },
      "execution_count": null,
      "outputs": []
    },
    {
      "cell_type": "code",
      "source": [
        "#18. What is an API specification, and how does it help in building a Flask API?\n",
        "#Ans:- As above, it ensures consistent development and communication by defining:-\n",
        "#        1. Endpoints\n",
        "#        2. Request/response structure\n",
        "#        3. Error messages\n",
        "#        4. Authentication methods\n"
      ],
      "metadata": {
        "id": "Myjx6KeckBjU"
      },
      "execution_count": null,
      "outputs": []
    },
    {
      "cell_type": "code",
      "source": [
        "#19. What are HTTP status codes, and why are they important in a Flask API?\n",
        "\n",
        "#Ans:-They indicate the result of an HTTP request:\n",
        "#        1.200 OK: Success\n",
        "#        2.201 Created: New resource added\n",
        "#        3.400 Bad Request: Client error\n",
        "#        4.404 Not Found\n",
        "#        5.500 Internal Server Error\n"
      ],
      "metadata": {
        "id": "HkPrDjnVkF4W"
      },
      "execution_count": null,
      "outputs": []
    },
    {
      "cell_type": "code",
      "source": [
        "#20. How do you handle POST requests in Flask?\n",
        "\n",
        "#Ans:- In Flask, POST requests are used to send data from the client to the server.\n",
        "#      To handle a POST request, you create a route with methods=['POST'] and use the request object to access the data sent.\n",
        "#      POST is commonly used to submit forms or add new data.\n"
      ],
      "metadata": {
        "id": "bmbmvccekIz2"
      },
      "execution_count": null,
      "outputs": []
    },
    {
      "cell_type": "code",
      "source": [
        "#21. How would you secure a Flask API?\n",
        "\n",
        "#Ans:- Use HTTPS.\n",
        "#      1. Validate and sanitize inputs.\n",
        "#      2. Use API keys or JWT tokens.\n",
        "#      3. Implement rate limiting.\n",
        "#      4. Use CORS settings to restrict access.\n"
      ],
      "metadata": {
        "id": "_kXKYOSykPan"
      },
      "execution_count": null,
      "outputs": []
    },
    {
      "cell_type": "code",
      "source": [
        "#22. What is the significance of the Flask-RESTful extension?\n",
        "\n",
        "# Ans:- It simplifies the creation of RESTful APIs by using:-\n",
        "#      1. Class-based views\n",
        "#      2. Automatic HTTP method routing\n",
        "#      3. Built-in request parsing"
      ],
      "metadata": {
        "id": "hn1mkj9HkQXW"
      },
      "execution_count": null,
      "outputs": []
    },
    {
      "cell_type": "code",
      "source": [
        "#23. What is the role of Flask’s session object?\n",
        "\n",
        "#Ans:-It allows server-side storage of user-specific data across requests using secure cookies."
      ],
      "metadata": {
        "id": "xfdu0Q3nkTnn"
      },
      "execution_count": null,
      "outputs": []
    }
  ]
}